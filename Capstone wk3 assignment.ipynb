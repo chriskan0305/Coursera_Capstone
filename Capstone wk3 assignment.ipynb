{
 "cells": [
  {
   "cell_type": "markdown",
   "metadata": {},
   "source": [
    "# Project: Segmenting and Clustering Neighborhoods in Toronto\n",
    "\n",
    "## This following scripts import data from web and store it in a dataframe"
   ]
  },
  {
   "cell_type": "code",
   "execution_count": 19,
   "metadata": {},
   "outputs": [],
   "source": [
    "# import libraries\n",
    "import pandas as pd\n",
    "import numpy as np"
   ]
  },
  {
   "cell_type": "markdown",
   "metadata": {},
   "source": [
    "### Import data from web page"
   ]
  },
  {
   "cell_type": "code",
   "execution_count": 20,
   "metadata": {},
   "outputs": [],
   "source": [
    "# Webpage url                                                                                                               \n",
    "url = 'https://en.wikipedia.org/wiki/List_of_postal_codes_of_Canada:_M'\n",
    "\n",
    "# Extract tables\n",
    "dfs = pd.read_html(url)\n",
    "\n",
    "# Get first table                                                                                                           \n",
    "df = dfs[0]\n",
    "\n"
   ]
  },
  {
   "cell_type": "markdown",
   "metadata": {},
   "source": [
    "### Clean up data and print the resultant shape"
   ]
  },
  {
   "cell_type": "code",
   "execution_count": 21,
   "metadata": {},
   "outputs": [
    {
     "name": "stdout",
     "output_type": "stream",
     "text": [
      "Initial shape: (180, 3)\n",
      "Removing 'Borough' = 'Not assigned: (103, 3)\n",
      "  Postal Code           Borough                                Neighbourhood\n",
      "0         M3A        North York                                    Parkwoods\n",
      "1         M4A        North York                             Victoria Village\n",
      "2         M5A  Downtown Toronto                    Regent Park, Harbourfront\n",
      "3         M6A        North York             Lawrence Manor, Lawrence Heights\n",
      "4         M7A  Downtown Toronto  Queen's Park, Ontario Provincial Government\n",
      "5         M9A         Etobicoke      Islington Avenue, Humber Valley Village\n",
      "6         M1B       Scarborough                               Malvern, Rouge\n",
      "7         M3B        North York                                    Don Mills\n",
      "8         M4B         East York              Parkview Hill, Woodbine Gardens\n",
      "9         M5B  Downtown Toronto                     Garden District, Ryerson\n"
     ]
    },
    {
     "data": {
      "text/plain": [
       "(103, 3)"
      ]
     },
     "execution_count": 21,
     "metadata": {},
     "output_type": "execute_result"
    }
   ],
   "source": [
    "# Extract columns                                                                                                           \n",
    "df2 = df[['Postal Code','Borough','Neighbourhood']]\n",
    "print ('Initial shape:',df2.shape)\n",
    "\n",
    "# remove rows with Borough = 'Not assigned'\n",
    "df2 = df2[df2['Borough'] != 'Not assigned']\n",
    "print (\"Removing 'Borough' = 'Not assigned:\",df2.shape)\n",
    "\n",
    "# copy value from 'Borough' to 'Neighbourhood' if 'Borough' has a value but 'Neighbourhood' is 'Not assigned'\n",
    "df2.loc[df2['Neighbourhood'] == 'Not assigned','Neighbourhood'] = df2['Borough']\n",
    "\n",
    "# reset index\n",
    "df2.reset_index(drop=True, inplace=True)\n",
    "print(df2.head(10))\n",
    "\n",
    "# print the resultant dataframe shape\n",
    "df2.shape"
   ]
  },
  {
   "cell_type": "code",
   "execution_count": null,
   "metadata": {},
   "outputs": [],
   "source": []
  }
 ],
 "metadata": {
  "kernelspec": {
   "display_name": "Python 3",
   "language": "python",
   "name": "python3"
  },
  "language_info": {
   "codemirror_mode": {
    "name": "ipython",
    "version": 3
   },
   "file_extension": ".py",
   "mimetype": "text/x-python",
   "name": "python",
   "nbconvert_exporter": "python",
   "pygments_lexer": "ipython3",
   "version": "3.8.5"
  }
 },
 "nbformat": 4,
 "nbformat_minor": 1
}
